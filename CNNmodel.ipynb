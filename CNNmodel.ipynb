{
  "nbformat": 4,
  "nbformat_minor": 0,
  "metadata": {
    "colab": {
      "name": "CNNmodel.ipynb",
      "provenance": [],
      "collapsed_sections": []
    },
    "kernelspec": {
      "name": "python3",
      "display_name": "Python 3"
    },
    "accelerator": "GPU"
  },
  "cells": [
    {
      "cell_type": "code",
      "metadata": {
        "id": "kh4XEljDX11_"
      },
      "source": [
        "\n",
        "from keras.datasets import cifar10\n",
        "import matplotlib.pyplot as plt\n",
        "from keras import models\n",
        "from tensorflow.keras import datasets, layers, models\n",
        "from keras.models import Sequential\n",
        "from keras.layers import Conv2D\n",
        "from keras.layers import MaxPooling2D\n",
        "from keras.layers import Flatten\n",
        "from keras.layers import Dense\n",
        "from tensorflow.keras.utils import to_categorical\n",
        "from sklearn.metrics import classification_report, confusion_matrix, multilabel_confusion_matrix\n",
        "import numpy as np\n",
        "\n",
        "\n",
        "\n"
      ],
      "execution_count": 19,
      "outputs": []
    },
    {
      "cell_type": "code",
      "metadata": {
        "id": "g8SKE3L0X7UR"
      },
      "source": [
        "#a) Importing the dataset\n",
        "(x_train, y_train), (x_test, y_test) = cifar10.load_data()\n",
        "img_rows, img_cols , channels= 32,32,3\n"
      ],
      "execution_count": 20,
      "outputs": []
    },
    {
      "cell_type": "code",
      "metadata": {
        "colab": {
          "base_uri": "https://localhost:8080/"
        },
        "id": "J3igo-Ht0GmP",
        "outputId": "ed843f47-4e4a-4712-f233-b57ceedf35fa"
      },
      "source": [
        "x_train.shape"
      ],
      "execution_count": 21,
      "outputs": [
        {
          "output_type": "execute_result",
          "data": {
            "text/plain": [
              "(50000, 32, 32, 3)"
            ]
          },
          "metadata": {
            "tags": []
          },
          "execution_count": 21
        }
      ]
    },
    {
      "cell_type": "code",
      "metadata": {
        "id": "SSax8LwiLXCC",
        "colab": {
          "base_uri": "https://localhost:8080/"
        },
        "outputId": "88e98e79-fdb2-48d2-e13e-9287ae9f3d81"
      },
      "source": [
        "# summarize loaded dataset\n",
        "print('Train: X=%s, y=%s' % (x_train.shape, y_train.shape))\n",
        "print('Test: X=%s, y=%s' % (x_test.shape, y_test.shape))\n",
        "# create labels\n",
        "labels = ['airplane', 'automobile', 'bird', 'cat', 'deer', 'dog', 'frog', 'horse', 'ship', 'truck']\n"
      ],
      "execution_count": 22,
      "outputs": [
        {
          "output_type": "stream",
          "text": [
            "Train: X=(50000, 32, 32, 3), y=(50000, 1)\n",
            "Test: X=(10000, 32, 32, 3), y=(10000, 1)\n"
          ],
          "name": "stdout"
        }
      ]
    },
    {
      "cell_type": "code",
      "metadata": {
        "id": "ofeycVxsQ675"
      },
      "source": [
        "#b) Preprocessing the data\n",
        "# Normalize dataset each pixel represented by value between 0 and 1\n",
        "x_train = np.array(x_train, dtype=np.float32)\n",
        "x_test = np.array(x_test, dtype=np.float32)\n",
        "x_train  = x_train/255\n",
        "x_test  = x_test/255\n",
        "\n",
        "\n",
        "\n",
        "\n",
        "#to_categorical y_train and y_test \n",
        "y_train = to_categorical(y_train)\n",
        "y_test = to_categorical(y_test)\n",
        "\n"
      ],
      "execution_count": 23,
      "outputs": []
    },
    {
      "cell_type": "code",
      "metadata": {
        "id": "72CrApeyys8u"
      },
      "source": [
        "def recall_m(y_true, y_pred):\n",
        "        true_positives = K.sum(K.round(K.clip(y_true * y_pred, 0, 1)))\n",
        "        possible_positives = K.sum(K.round(K.clip(y_true, 0, 1)))\n",
        "        recall = true_positives / (possible_positives + K.epsilon())\n",
        "        return recall\n",
        "\n",
        "def precision_m(y_true, y_pred):\n",
        "        true_positives = K.sum(K.round(K.clip(y_true * y_pred, 0, 1)))\n",
        "        predicted_positives = K.sum(K.round(K.clip(y_pred, 0, 1)))\n",
        "        precision = true_positives / (predicted_positives + K.epsilon())\n",
        "        return precision\n",
        "\n",
        "def f1_m(y_true, y_pred):\n",
        "    precision = precision_m(y_true, y_pred)\n",
        "    recall = recall_m(y_true, y_pred)\n",
        "    return 2*((precision*recall)/(precision+recall+K.epsilon()))"
      ],
      "execution_count": 24,
      "outputs": []
    },
    {
      "cell_type": "code",
      "metadata": {
        "id": "XP13hMGfU46q",
        "colab": {
          "base_uri": "https://localhost:8080/"
        },
        "outputId": "3536fc2f-37f4-476e-f4c2-69e547bcbd76"
      },
      "source": [
        "#c) Building the model \n",
        "model = Sequential()\n",
        "\n",
        "#• Set up the layers\n",
        "model.add(Conv2D(16, (3, 3), activation='relu', input_shape=(32, 32, 3)))\n",
        "\n",
        "model.add(Conv2D(16, (3, 3), activation='relu'))\n",
        "\n",
        "model.add(MaxPooling2D((2, 2)))\n",
        "\n",
        "model.add(Conv2D(32, (3, 3), activation='relu'))\n",
        "\n",
        "model.add(Conv2D(32, (3, 3), activation='relu'))\n",
        "\n",
        "model.add(MaxPooling2D((2, 2)))\n",
        "\n",
        "model.add(Conv2D(64, (3, 3), activation='relu'))\n",
        "\n",
        "model.add(Conv2D(64, (3, 3), activation='relu'))\n",
        "\n",
        "model.add(Flatten())\n",
        "\n",
        "model.add(Dense(10, activation='softmax'))\n",
        "\n",
        "#• Compile the model\n",
        "model.compile(loss='categorical_crossentropy', optimizer='adam', metrics=['accuracy',f1_m, precision_m, recall_m])\n",
        "\n",
        "#d) Training the model.\n",
        "history = model.fit(x_train, y_train, epochs=15, validation_data=(x_test, y_test), verbose=0)\n",
        "\n",
        "loss, accuracy, f1_score, precision, recall = model.evaluate(x_test, y_test, verbose=0)\n",
        "\n",
        "model.summary()\n"
      ],
      "execution_count": 27,
      "outputs": [
        {
          "output_type": "stream",
          "text": [
            "Model: \"sequential_3\"\n",
            "_________________________________________________________________\n",
            "Layer (type)                 Output Shape              Param #   \n",
            "=================================================================\n",
            "conv2d_15 (Conv2D)           (None, 30, 30, 16)        448       \n",
            "_________________________________________________________________\n",
            "conv2d_16 (Conv2D)           (None, 28, 28, 16)        2320      \n",
            "_________________________________________________________________\n",
            "max_pooling2d_6 (MaxPooling2 (None, 14, 14, 16)        0         \n",
            "_________________________________________________________________\n",
            "conv2d_17 (Conv2D)           (None, 12, 12, 32)        4640      \n",
            "_________________________________________________________________\n",
            "conv2d_18 (Conv2D)           (None, 10, 10, 32)        9248      \n",
            "_________________________________________________________________\n",
            "max_pooling2d_7 (MaxPooling2 (None, 5, 5, 32)          0         \n",
            "_________________________________________________________________\n",
            "conv2d_19 (Conv2D)           (None, 3, 3, 64)          18496     \n",
            "_________________________________________________________________\n",
            "conv2d_20 (Conv2D)           (None, 1, 1, 64)          36928     \n",
            "_________________________________________________________________\n",
            "flatten_3 (Flatten)          (None, 64)                0         \n",
            "_________________________________________________________________\n",
            "dense_3 (Dense)              (None, 10)                650       \n",
            "=================================================================\n",
            "Total params: 72,730\n",
            "Trainable params: 72,730\n",
            "Non-trainable params: 0\n",
            "_________________________________________________________________\n"
          ],
          "name": "stdout"
        }
      ]
    },
    {
      "cell_type": "code",
      "metadata": {
        "id": "QoNwAMi4s6nX"
      },
      "source": [
        "#e) Making prediction on test set\n",
        "y_predictions = model.predict(x_test).argmax(axis=1)\n",
        "y_test = np.argmax(y_test,axis=1)\n"
      ],
      "execution_count": 28,
      "outputs": []
    },
    {
      "cell_type": "code",
      "metadata": {
        "id": "HFr9Ef913sOg"
      },
      "source": [
        "# f) Evaluating model performance on test set by plotting confusion matrix for each class, theprecision, the recall and accuracy metrics\n",
        "import itertools\n",
        "plt.rcParams['figure.figsize'] = [10,7]\n",
        "\n",
        "def plot_confusion_matrix(cm, classes,\n",
        "                          normalize=False,\n",
        "                          title='Confusion matrix',\n",
        "                          cmap=plt.cm.Blues):\n",
        "\n",
        "  plt.imshow(cm, interpolation='nearest', cmap=cmap)\n",
        "  plt.title(title)\n",
        "  plt.colorbar()\n",
        "  tick_marks = np.arange(len(classes))\n",
        "  plt.xticks(tick_marks, classes, rotation=45)\n",
        "  plt.yticks(tick_marks, classes)\n",
        "\n",
        "  fmt = '.2f' if normalize else 'd'\n",
        "  thresh = cm.max() / 2.\n",
        "  for i, j in itertools.product(range(cm.shape[0]), range(cm.shape[1])):\n",
        "      plt.text(j, i, format(cm[i, j], fmt),\n",
        "               horizontalalignment=\"center\",\n",
        "               color=\"white\" if cm[i, j] > thresh else \"black\")\n",
        "\n",
        "  plt.tight_layout()\n",
        "  plt.ylabel('True label')\n",
        "  plt.xlabel('Predicted label')\n",
        "  plt.show()\n",
        "\n"
      ],
      "execution_count": 29,
      "outputs": []
    },
    {
      "cell_type": "code",
      "metadata": {
        "id": "0wM4-D5vtJzV",
        "colab": {
          "base_uri": "https://localhost:8080/",
          "height": 1000
        },
        "outputId": "52a545f5-ee24-4a28-a13d-d68026dde02d"
      },
      "source": [
        "cm = confusion_matrix(y_test,y_predictions)\n",
        "print(cm)\n",
        "plot_confusion_matrix(cm, list(range(10)))\n",
        "\n",
        "\n",
        "results = multilabel_confusion_matrix(y_true=y_test, y_pred=y_predictions) \n",
        "print ('Confusion Matrix :')\n",
        "print(results) \n"
      ],
      "execution_count": 30,
      "outputs": [
        {
          "output_type": "stream",
          "text": [
            "[[752  10  84  16  11   8   9  12  61  37]\n",
            " [ 32 761  13   3   2   6  11   3  26 143]\n",
            " [ 68   2 654  67  48  39  57  45   8  12]\n",
            " [ 23   2  95 542  34 149  64  58  16  17]\n",
            " [ 11   2  98  72 598  41  59 106   8   5]\n",
            " [ 12   0  77 179  25 596  24  74   5   8]\n",
            " [  8   2  58  72  13  20 803  10   8   6]\n",
            " [ 23   1  40  42  35  43   2 797   1  16]\n",
            " [ 88  14  28  17   5   3   6   2 795  42]\n",
            " [ 27  28  11  16   4   2   6  12  30 864]]\n"
          ],
          "name": "stdout"
        },
        {
          "output_type": "display_data",
          "data": {
            "image/png": "[encoded data removed]",
            "text/plain": [
              "<Figure size 720x504 with 2 Axes>"
            ]
          },
          "metadata": {
            "tags": [],
            "needs_background": "light"
          }
        },
        {
          "output_type": "stream",
          "text": [
            "Confusion Matrix :\n",
            "[[[8708  292]\n",
            "  [ 248  752]]\n",
            "\n",
            " [[8939   61]\n",
            "  [ 239  761]]\n",
            "\n",
            " [[8496  504]\n",
            "  [ 346  654]]\n",
            "\n",
            " [[8516  484]\n",
            "  [ 458  542]]\n",
            "\n",
            " [[8823  177]\n",
            "  [ 402  598]]\n",
            "\n",
            " [[8689  311]\n",
            "  [ 404  596]]\n",
            "\n",
            " [[8762  238]\n",
            "  [ 197  803]]\n",
            "\n",
            " [[8678  322]\n",
            "  [ 203  797]]\n",
            "\n",
            " [[8837  163]\n",
            "  [ 205  795]]\n",
            "\n",
            " [[8714  286]\n",
            "  [ 136  864]]]\n"
          ],
          "name": "stdout"
        }
      ]
    },
    {
      "cell_type": "code",
      "metadata": {
        "id": "FSOIw8oLr-tu",
        "colab": {
          "base_uri": "https://localhost:8080/"
        },
        "outputId": "450996f1-878c-4a18-f884-680623dc8cc3"
      },
      "source": [
        "\n",
        "from sklearn.metrics import classification_report\n",
        "print(classification_report(y_test , y_predictions ))"
      ],
      "execution_count": 31,
      "outputs": [
        {
          "output_type": "stream",
          "text": [
            "              precision    recall  f1-score   support\n",
            "\n",
            "           0       0.72      0.75      0.74      1000\n",
            "           1       0.93      0.76      0.84      1000\n",
            "           2       0.56      0.65      0.61      1000\n",
            "           3       0.53      0.54      0.54      1000\n",
            "           4       0.77      0.60      0.67      1000\n",
            "           5       0.66      0.60      0.63      1000\n",
            "           6       0.77      0.80      0.79      1000\n",
            "           7       0.71      0.80      0.75      1000\n",
            "           8       0.83      0.80      0.81      1000\n",
            "           9       0.75      0.86      0.80      1000\n",
            "\n",
            "    accuracy                           0.72     10000\n",
            "   macro avg       0.72      0.72      0.72     10000\n",
            "weighted avg       0.72      0.72      0.72     10000\n",
            "\n"
          ],
          "name": "stdout"
        }
      ]
    }
  ]
}
